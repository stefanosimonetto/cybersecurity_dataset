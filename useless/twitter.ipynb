{
 "cells": [
  {
   "cell_type": "code",
   "execution_count": 2,
   "metadata": {},
   "outputs": [
    {
     "name": "stdout",
     "output_type": "stream",
     "text": [
      "Defaulting to user installation because normal site-packages is not writeable"
     ]
    },
    {
     "name": "stderr",
     "output_type": "stream",
     "text": [
      "DEPRECATION: Loading egg at c:\\program files\\python311\\lib\\site-packages\\vboxapi-1.0-py3.11.egg is deprecated. pip 24.3 will enforce this behaviour change. A possible replacement is to use pip for package installation.. Discussion can be found at https://github.com/pypa/pip/issues/12330\n",
      "\n",
      "[notice] A new release of pip is available: 24.0 -> 24.3.1\n",
      "[notice] To update, run: python.exe -m pip install --upgrade pip\n"
     ]
    },
    {
     "name": "stdout",
     "output_type": "stream",
     "text": [
      "\n",
      "Collecting tweepy\n",
      "  Using cached tweepy-4.14.0-py3-none-any.whl.metadata (3.8 kB)\n",
      "Requirement already satisfied: oauthlib<4,>=3.2.0 in c:\\users\\simonettos\\appdata\\roaming\\python\\python311\\site-packages (from tweepy) (3.2.2)\n",
      "Requirement already satisfied: requests<3,>=2.27.0 in c:\\users\\simonettos\\appdata\\roaming\\python\\python311\\site-packages (from tweepy) (2.31.0)\n",
      "Requirement already satisfied: requests-oauthlib<2,>=1.2.0 in c:\\program files\\python311\\lib\\site-packages (from tweepy) (1.3.1)\n",
      "Requirement already satisfied: charset-normalizer<4,>=2 in c:\\users\\simonettos\\appdata\\roaming\\python\\python311\\site-packages (from requests<3,>=2.27.0->tweepy) (3.1.0)\n",
      "Requirement already satisfied: idna<4,>=2.5 in c:\\users\\simonettos\\appdata\\roaming\\python\\python311\\site-packages (from requests<3,>=2.27.0->tweepy) (3.4)\n",
      "Requirement already satisfied: urllib3<3,>=1.21.1 in c:\\users\\simonettos\\appdata\\roaming\\python\\python311\\site-packages (from requests<3,>=2.27.0->tweepy) (1.26.15)\n",
      "Requirement already satisfied: certifi>=2017.4.17 in c:\\users\\simonettos\\appdata\\roaming\\python\\python311\\site-packages (from requests<3,>=2.27.0->tweepy) (2022.12.7)\n",
      "Using cached tweepy-4.14.0-py3-none-any.whl (98 kB)\n",
      "Installing collected packages: tweepy\n",
      "Successfully installed tweepy-4.14.0\n"
     ]
    }
   ],
   "source": [
    "!pip install tweepy"
   ]
  },
  {
   "cell_type": "code",
   "execution_count": 11,
   "metadata": {},
   "outputs": [],
   "source": [
    "import tweepy\n",
    "import time\n",
    "consumer_key = \"S9ZtLZ1ki0h4FS3nPDhOSbSxs\"\n",
    "consumer_secret = \"FlENh5NeU6VDZkbiGRxrvjpJ0yYZxzZA50Y4YrOaBqg97RNJaD\"\n",
    "access_key = \"1868610138292244481-PW1jmkMNRTiQPoBhhcIgwf596FOyxu\"\n",
    "access_secret = \"929zw0q3CH1iZk957TSoTSL2YxeX1zlr7pWi7tSpAF4Ga\"\n",
    "\n",
    "# Authenticate to Twitter\n",
    "auth = tweepy.OAuthHandler(consumer_key, consumer_secret)\n",
    "auth.set_access_token(access_key, access_secret)\n"
   ]
  },
  {
   "cell_type": "code",
   "execution_count": 12,
   "metadata": {},
   "outputs": [],
   "source": [
    "import logging\n",
    "logging.basicConfig(level=logging.INFO)\n",
    "logger = logging.getLogger()\n"
   ]
  },
  {
   "cell_type": "code",
   "execution_count": 13,
   "metadata": {},
   "outputs": [
    {
     "name": "stdout",
     "output_type": "stream",
     "text": [
      "Authentication OK\n",
      "Access denied for tweet ID 1371005754455560192. Error: 403 Forbidden\n",
      "453 - You currently have access to a subset of X API V2 endpoints and limited v1.1 endpoints (e.g. media post, oauth) only. If you need access to this endpoint, you may need a different access level. You can learn more here: https://developer.x.com/en/portal/product\n",
      "Access denied for tweet ID 1370883557284020224. Error: 403 Forbidden\n",
      "453 - You currently have access to a subset of X API V2 endpoints and limited v1.1 endpoints (e.g. media post, oauth) only. If you need access to this endpoint, you may need a different access level. You can learn more here: https://developer.x.com/en/portal/product\n"
     ]
    },
    {
     "ename": "KeyboardInterrupt",
     "evalue": "",
     "output_type": "error",
     "traceback": [
      "\u001b[1;31m---------------------------------------------------------------------------\u001b[0m",
      "\u001b[1;31mKeyboardInterrupt\u001b[0m                         Traceback (most recent call last)",
      "Cell \u001b[1;32mIn[13], line 35\u001b[0m\n\u001b[0;32m     32\u001b[0m     tweet_ids \u001b[38;5;241m+\u001b[39m\u001b[38;5;241m=\u001b[39m f\u001b[38;5;241m.\u001b[39mread()\u001b[38;5;241m.\u001b[39msplitlines()\n\u001b[0;32m     34\u001b[0m \u001b[38;5;66;03m# Get tweets based on the IDs\u001b[39;00m\n\u001b[1;32m---> 35\u001b[0m tweets \u001b[38;5;241m=\u001b[39m \u001b[43mget_tweets\u001b[49m\u001b[43m(\u001b[49m\u001b[43mtweet_ids\u001b[49m\u001b[43m[\u001b[49m\u001b[43m:\u001b[49m\u001b[38;5;241;43m10\u001b[39;49m\u001b[43m]\u001b[49m\u001b[43m)\u001b[49m\n\u001b[0;32m     37\u001b[0m \u001b[38;5;66;03m# Save the tweets to a file\u001b[39;00m\n\u001b[0;32m     38\u001b[0m \u001b[38;5;28;01mwith\u001b[39;00m \u001b[38;5;28mopen\u001b[39m(\u001b[38;5;124m'\u001b[39m\u001b[38;5;124msources/tweets.txt\u001b[39m\u001b[38;5;124m'\u001b[39m, \u001b[38;5;124m'\u001b[39m\u001b[38;5;124mw\u001b[39m\u001b[38;5;124m'\u001b[39m) \u001b[38;5;28;01mas\u001b[39;00m f:\n",
      "Cell \u001b[1;32mIn[13], line 21\u001b[0m, in \u001b[0;36mget_tweets\u001b[1;34m(tweet_ids)\u001b[0m\n\u001b[0;32m     19\u001b[0m     \u001b[38;5;28;01mexcept\u001b[39;00m \u001b[38;5;167;01mException\u001b[39;00m \u001b[38;5;28;01mas\u001b[39;00m e:\n\u001b[0;32m     20\u001b[0m         \u001b[38;5;28mprint\u001b[39m(\u001b[38;5;124mf\u001b[39m\u001b[38;5;124m\"\u001b[39m\u001b[38;5;124mFailed to get tweet with ID \u001b[39m\u001b[38;5;132;01m{\u001b[39;00mi\u001b[38;5;132;01m}\u001b[39;00m\u001b[38;5;124m. Error: \u001b[39m\u001b[38;5;132;01m{\u001b[39;00me\u001b[38;5;132;01m}\u001b[39;00m\u001b[38;5;124m\"\u001b[39m)\n\u001b[1;32m---> 21\u001b[0m     \u001b[43mtime\u001b[49m\u001b[38;5;241;43m.\u001b[39;49m\u001b[43msleep\u001b[49m\u001b[43m(\u001b[49m\u001b[38;5;241;43m1\u001b[39;49m\u001b[43m)\u001b[49m  \u001b[38;5;66;03m# Avoid rate limit\u001b[39;00m\n\u001b[0;32m     22\u001b[0m \u001b[38;5;28;01mreturn\u001b[39;00m tweets\n",
      "\u001b[1;31mKeyboardInterrupt\u001b[0m: "
     ]
    }
   ],
   "source": [
    "\n",
    "# Create API object\n",
    "api = tweepy.API(auth, wait_on_rate_limit=True)  # Remove wait_on_rate_limit_notify\n",
    "\n",
    "# Check the connection\n",
    "try:\n",
    "    api.verify_credentials()\n",
    "    print(\"Authentication OK\")\n",
    "except tweepy.TweepError as te:\n",
    "    print(\"Error during authentication:\", te)\n",
    "\n",
    "def get_tweets(tweet_ids):\n",
    "    tweets = []\n",
    "    for i in tweet_ids:\n",
    "        try:\n",
    "            tweet = api.get_status(i)\n",
    "            tweets.append(tweet.text)\n",
    "        except tweepy.errors.Forbidden as fe:\n",
    "            print(f\"Access denied for tweet ID {i}. Error: {fe}\")\n",
    "        except Exception as e:\n",
    "            print(f\"Failed to get tweet with ID {i}. Error: {e}\")\n",
    "        time.sleep(1)  # Avoid rate limit\n",
    "    return tweets\n",
    "\n",
    "# Read tweet IDs from file\n",
    "with open('sources/ids_twitter_data_breaches.txt', 'r') as f:\n",
    "    tweet_ids = f.read().splitlines()\n",
    "with open('sources/ids_twitter_infosec_1.txt', 'r') as f:\n",
    "    tweet_ids += f.read().splitlines()\n",
    "with open('sources/ids_twitter_infosec_2.txt', 'r') as f:\n",
    "    tweet_ids += f.read().splitlines()\n",
    "with open('sources/ids_twitter_infosec_3.txt', 'r') as f:\n",
    "    tweet_ids += f.read().splitlines()\n",
    "\n",
    "# Get tweets based on the IDs\n",
    "tweets = get_tweets(tweet_ids[:10])\n",
    "\n",
    "# Save the tweets to a file\n",
    "with open('sources/tweets.txt', 'w') as f:\n",
    "    for tweet in tweets:\n",
    "        f.write(\"%s\\n\" % tweet)"
   ]
  },
  {
   "cell_type": "code",
   "execution_count": null,
   "metadata": {},
   "outputs": [
    {
     "name": "stdout",
     "output_type": "stream",
     "text": [
      "Rate limit reached. Sleeping for 15 minutes...\n",
      "Retrieved: 1394250011882500096\n",
      "Rate limit reached. Sleeping for 15 minutes...\n",
      "Retrieved: 1394250010082955267\n",
      "Rate limit reached. Sleeping for 15 minutes...\n",
      "Retrieved: 1394250008443035649\n",
      "Rate limit reached. Sleeping for 15 minutes...\n",
      "No data for Tweet ID 1394250007344291840\n",
      "Rate limit reached. Sleeping for 15 minutes...\n"
     ]
    }
   ],
   "source": [
    "import tweepy\n",
    "import time\n",
    "\n",
    "# Replace with your regenerated credentials\n",
    "BEARER_TOKEN = \"AAAAAAAAAAAAAAAAAAAAAJ9QxgEAAAAAbw9y1jPjfc7Hm4T7iRGaI9Xt%2Fas%3Dy0oiMYPLNVWhMrq3VX8DnrDEXmoNBixoO9M6Y4L3fAW59phVcq\"\n",
    "\n",
    "# Authenticate using Tweepy v2\n",
    "client = tweepy.Client(bearer_token=BEARER_TOKEN)\n",
    "def get_tweets_from_file(file_path, output_file):\n",
    "    tweets = []\n",
    "    failed_ids = []  # Store IDs that fail to retrieve\n",
    "\n",
    "    # Read tweet IDs from file\n",
    "    with open(file_path, 'r') as f:\n",
    "        tweet_ids = f.read().splitlines()\n",
    "\n",
    "    # Process each tweet ID\n",
    "    for tweet_id in tweet_ids:\n",
    "        try:\n",
    "            response = client.get_tweet(id=tweet_id)\n",
    "            if response.data:\n",
    "                tweet_text = response.data.text\n",
    "                tweets.append(f\"{tweet_id}: {tweet_text}\")\n",
    "                print(f\"Retrieved: {tweet_id}\")\n",
    "            else:\n",
    "                print(f\"No data for Tweet ID {tweet_id}\")\n",
    "        except tweepy.errors.TooManyRequests:\n",
    "            print(\"Rate limit reached. Sleeping for 15 minutes...\")\n",
    "            time.sleep(15 * 60)  # Sleep for 15 minutes to reset rate limit\n",
    "        except tweepy.errors.Forbidden:\n",
    "            print(f\"Access denied for Tweet ID {tweet_id}.\")\n",
    "            failed_ids.append(tweet_id)\n",
    "        except Exception as e:\n",
    "            print(f\"Error retrieving Tweet ID {tweet_id}: {e}\")\n",
    "            failed_ids.append(tweet_id)\n",
    "\n",
    "        time.sleep(1)  # Avoid hitting rate limits too quickly\n",
    "\n",
    "    # Save retrieved tweets to a file\n",
    "    with open(output_file, 'w') as f:\n",
    "        for tweet in tweets:\n",
    "            f.write(f\"{tweet}\\n\")\n",
    "\n",
    "    # Save failed IDs to a separate file\n",
    "    if failed_ids:\n",
    "        with open('failed_tweet_ids.txt', 'w') as f:\n",
    "            for tweet_id in failed_ids:\n",
    "                f.write(f\"{tweet_id}\\n\")\n",
    "\n",
    "    print(f\"Successfully retrieved {len(tweets)} tweets.\")\n",
    "    print(f\"Failed to retrieve {len(failed_ids)} tweets. Check 'failed_tweet_ids.txt'.\")\n",
    "\n",
    "# File paths\n",
    "input_file = 'sources/ids_twitter_infosec_1.txt'  # Replace with your file path\n",
    "output_file = 'retrieved_tweets.txt'\n",
    "\n",
    "# Run the function\n",
    "get_tweets_from_file(input_file, output_file)"
   ]
  }
 ],
 "metadata": {
  "kernelspec": {
   "display_name": "Python 3",
   "language": "python",
   "name": "python3"
  },
  "language_info": {
   "codemirror_mode": {
    "name": "ipython",
    "version": 3
   },
   "file_extension": ".py",
   "mimetype": "text/x-python",
   "name": "python",
   "nbconvert_exporter": "python",
   "pygments_lexer": "ipython3",
   "version": "3.11.9"
  }
 },
 "nbformat": 4,
 "nbformat_minor": 2
}
