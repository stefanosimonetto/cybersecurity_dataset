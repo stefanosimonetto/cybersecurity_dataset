{
 "cells": [
  {
   "cell_type": "code",
   "execution_count": 3,
   "metadata": {},
   "outputs": [
    {
     "name": "stdout",
     "output_type": "stream",
     "text": [
      "Loading BERT model...\n",
      "Embedding positive labels...\n"
     ]
    },
    {
     "name": "stderr",
     "output_type": "stream",
     "text": [
      "100%|██████████| 10/10 [00:00<00:00, 21.02it/s]\n"
     ]
    },
    {
     "name": "stdout",
     "output_type": "stream",
     "text": [
      "Embedding negative labels...\n"
     ]
    },
    {
     "name": "stderr",
     "output_type": "stream",
     "text": [
      "100%|██████████| 10/10 [00:00<00:00, 23.90it/s]\n"
     ]
    },
    {
     "name": "stdout",
     "output_type": "stream",
     "text": [
      "Embeddings added and saved to: output_with_embeddings.json\n"
     ]
    }
   ],
   "source": [
    "import torch\n",
    "from transformers import BertTokenizer, BertModel\n",
    "import os\n",
    "import json\n",
    "from tqdm import tqdm\n",
    "# Input and Output Paths\n",
    "output_file = \"output.json\"  # Path to the existing output JSON\n",
    "embedded_output_file = \"output_with_embeddings.json\"  # Path to save the updated JSON\n",
    "\n",
    "# Load pre-trained BERT model and tokenizer\n",
    "print(\"Loading BERT model...\")\n",
    "tokenizer = BertTokenizer.from_pretrained(\"bert-base-uncased\")\n",
    "model = BertModel.from_pretrained(\"bert-base-uncased\")\n",
    "\n",
    "# Function to compute BERT embeddings\n",
    "def compute_bert_embedding(text):\n",
    "    \"\"\"\n",
    "    Compute BERT embedding for a given text.\n",
    "    Returns the mean-pooled embedding as a list.\n",
    "    \"\"\"\n",
    "    inputs = tokenizer(text, return_tensors=\"pt\", truncation=True, padding=True, max_length=512)\n",
    "    with torch.no_grad():\n",
    "        outputs = model(**inputs)\n",
    "        last_hidden_state = outputs.last_hidden_state\n",
    "        embedding = last_hidden_state.mean(dim=1).squeeze().tolist()  # Mean pooling\n",
    "    return embedding\n",
    "\n",
    "# Function to add embeddings to positive and negative labels\n",
    "def add_embeddings_to_labels(output_file, embedded_output_file):\n",
    "    \"\"\"\n",
    "    Add BERT embeddings to positive and negative labels in the JSON file.\n",
    "    \"\"\"\n",
    "    # Load existing data\n",
    "    if not os.path.exists(output_file):\n",
    "        raise FileNotFoundError(f\"Output file not found: {output_file}\")\n",
    "\n",
    "    with open(output_file, \"r\", encoding=\"utf-8\") as file:\n",
    "        data = json.load(file)\n",
    "\n",
    "    # Add embeddings to positive labels\n",
    "    print(\"Embedding positive labels...\")\n",
    "    for entry in tqdm(data.get(\"positive labels\", [])[:10]):\n",
    "        if not entry.get(\"embedding\"):  # Avoid reprocessing\n",
    "            entry[\"embedding\"] = compute_bert_embedding(entry[\"description\"])\n",
    "\n",
    "    # Add embeddings to negative labels\n",
    "    print(\"Embedding negative labels...\")\n",
    "    for entry in tqdm(data.get(\"negative labels\", [])[:10]):\n",
    "        if not entry.get(\"embedding\"):  # Avoid reprocessing\n",
    "            entry[\"embedding\"] = compute_bert_embedding(entry[\"description\"])\n",
    "\n",
    "    # Save updated data to a new file\n",
    "    with open(embedded_output_file, \"w\", encoding=\"utf-8\") as file:\n",
    "        json.dump(data, file, indent=4)\n",
    "\n",
    "    print(f\"Embeddings added and saved to: {embedded_output_file}\")\n",
    "\n",
    "# Run the function\n",
    "if __name__ == \"__main__\":\n",
    "    add_embeddings_to_labels(output_file, embedded_output_file)"
   ]
  },
  {
   "cell_type": "code",
   "execution_count": null,
   "metadata": {},
   "outputs": [],
   "source": []
  }
 ],
 "metadata": {
  "kernelspec": {
   "display_name": "Python 3",
   "language": "python",
   "name": "python3"
  },
  "language_info": {
   "codemirror_mode": {
    "name": "ipython",
    "version": 3
   },
   "file_extension": ".py",
   "mimetype": "text/x-python",
   "name": "python",
   "nbconvert_exporter": "python",
   "pygments_lexer": "ipython3",
   "version": "3.11.9"
  }
 },
 "nbformat": 4,
 "nbformat_minor": 2
}
