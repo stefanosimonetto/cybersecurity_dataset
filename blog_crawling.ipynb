{
 "cells": [
  {
   "cell_type": "code",
   "execution_count": 1,
   "metadata": {},
   "outputs": [
    {
     "name": "stderr",
     "output_type": "stream",
     "text": [
      "Processing URLs: 100%|██████████| 151806/151806 [7:23:20<00:00,  5.71it/s]   \n"
     ]
    },
    {
     "name": "stdout",
     "output_type": "stream",
     "text": [
      "Data has been saved to blog_posts.json.\n"
     ]
    }
   ],
   "source": [
    "import trafilatura\n",
    "import json\n",
    "from concurrent.futures import ThreadPoolExecutor, as_completed\n",
    "from tqdm import tqdm\n",
    "import pickle\n",
    "# Read URLs from the file\n",
    "urls = open('sources/urls_web.txt').read().split()\n",
    "\n",
    "# Function to process a single URL\n",
    "def process_url(url):\n",
    "    try:\n",
    "        content = trafilatura.fetch_url(url)\n",
    "        if content:\n",
    "            extracted = trafilatura.extract(content, output_format='json', include_comments=False)\n",
    "            if extracted:\n",
    "                extracted_json = json.loads(extracted)  # Parse the JSON string\n",
    "                text = extracted_json.get(\"text\", \"\")  # Get the \"text\" field\n",
    "                \n",
    "                # Split the text into paragraphs (based on double newline)\n",
    "                paragraphs = text.split('\\n')  # Adjust split condition if necessary\n",
    "                \n",
    "                # Filter out paragraphs with less than 3 words\n",
    "                filtered_paragraphs = [p for p in paragraphs if len(p.split()) >= 3]\n",
    "\n",
    "                return {\"url\": url, \"Paragraphs\": filtered_paragraphs}\n",
    "    except Exception as e:\n",
    "        return {\"url\": url, \"Paragraphs\": [f\"Error: {str(e)}\"]}\n",
    "\n",
    "    return {\"url\": url, \"Paragraphs\": []}  # Default if nothing was fetched or extracted\n",
    "\n",
    "# Use ThreadPoolExecutor for multithreading\n",
    "results = []\n",
    "with ThreadPoolExecutor() as executor:\n",
    "    # Submit all URLs to the executor\n",
    "    futures = {executor.submit(process_url, url): url for url in urls}\n",
    "\n",
    "    # Use tqdm to display progress\n",
    "    for future in tqdm(as_completed(futures), total=len(futures), desc=\"Processing URLs\"):\n",
    "        results.append(future.result())\n",
    "\n",
    "# Save the results to a JSON file\n",
    "with open('blog_posts.pickle', 'wb') as json_file:\n",
    "    pickle.dump(results, json_file)\n",
    "\n",
    "print(\"Data has been saved to blog_posts.json.\")\n"
   ]
  },
  {
   "cell_type": "code",
   "execution_count": 2,
   "metadata": {},
   "outputs": [
    {
     "name": "stdout",
     "output_type": "stream",
     "text": [
      "151806\n"
     ]
    }
   ],
   "source": [
    "import pickle\n",
    "with open('blog_posts.pickle', 'rb') as json_file:\n",
    "    data = pickle.load(json_file)\n",
    "print(len(data))"
   ]
  },
  {
   "cell_type": "code",
   "execution_count": 15,
   "metadata": {},
   "outputs": [
    {
     "name": "stdout",
     "output_type": "stream",
     "text": [
      "3\n"
     ]
    }
   ],
   "source": [
    "print(len(data[1][\"Paragraphs\"]))"
   ]
  },
  {
   "cell_type": "code",
   "execution_count": 16,
   "metadata": {},
   "outputs": [
    {
     "name": "stdout",
     "output_type": "stream",
     "text": [
      "['R.I.P. root9B? We Hardly Knew Ya!', 'root9B, a company that many in the security industry considered little more than a big-name startup aimed at cashing in on the stock market’s insatiable appetite for cybersecurity firms, surprised no one this week when it announced it was ceasing operations at the end of the year.', 'Founded in 2011, Colorado Springs, Colo. based root9B Technologies touted itself as an IT security training firm staffed by an impressive list of ex-military leaders with many years of cybersecurity experience at the Department of Defense and National Security Agency (NSA). As it began to attract more attention from investors, root9B’s focus shifted to helping organizations hunt for cyber intruders within their networks.']\n"
     ]
    }
   ],
   "source": [
    "print(data[1][\"Paragraphs\"][:3])  # Print the first 5 paragraphs of the second URL"
   ]
  }
 ],
 "metadata": {
  "kernelspec": {
   "display_name": "Python 3",
   "language": "python",
   "name": "python3"
  },
  "language_info": {
   "codemirror_mode": {
    "name": "ipython",
    "version": 3
   },
   "file_extension": ".py",
   "mimetype": "text/x-python",
   "name": "python",
   "nbconvert_exporter": "python",
   "pygments_lexer": "ipython3",
   "version": "3.11.9"
  }
 },
 "nbformat": 4,
 "nbformat_minor": 2
}
